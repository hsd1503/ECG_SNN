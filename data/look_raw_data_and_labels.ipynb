{
 "cells": [
  {
   "cell_type": "code",
   "execution_count": 8,
   "id": "1fa1b765",
   "metadata": {},
   "outputs": [],
   "source": [
    "import numpy as np\n",
    "from collections import Counter"
   ]
  },
  {
   "cell_type": "code",
   "execution_count": 2,
   "id": "f55255a9",
   "metadata": {},
   "outputs": [],
   "source": [
    "data = np.load('raw_data.npy',allow_pickle=1)"
   ]
  },
  {
   "cell_type": "code",
   "execution_count": 3,
   "id": "a4832a87",
   "metadata": {},
   "outputs": [
    {
     "data": {
      "text/plain": [
       "array([array([-127, -162, -197, ...,  -18,  -22,  -21], dtype=int16),\n",
       "       array([128, 157, 189, ...,   0,   1,   2], dtype=int16),\n",
       "       array([ 56,  73,  85, ..., -64, -36, -20], dtype=int16), ...,\n",
       "       array([-202, -235, -272, ..., -313, -173,  -52], dtype=int16),\n",
       "       array([-227, -297, -374, ...,  -54,  -44,  -36], dtype=int16),\n",
       "       array([-237, -286, -338, ...,  -16,  -17,  -18], dtype=int16)],\n",
       "      dtype=object)"
      ]
     },
     "execution_count": 3,
     "metadata": {},
     "output_type": "execute_result"
    }
   ],
   "source": [
    "data"
   ]
  },
  {
   "cell_type": "code",
   "execution_count": 6,
   "id": "27adf75a",
   "metadata": {},
   "outputs": [
    {
     "data": {
      "text/plain": [
       "(8528,)"
      ]
     },
     "execution_count": 6,
     "metadata": {},
     "output_type": "execute_result"
    }
   ],
   "source": [
    "data.shape"
   ]
  },
  {
   "cell_type": "code",
   "execution_count": 4,
   "id": "29bf4552",
   "metadata": {},
   "outputs": [],
   "source": [
    "labels = np.load('raw_labels.npy',allow_pickle=1)"
   ]
  },
  {
   "cell_type": "code",
   "execution_count": 5,
   "id": "dd81bee8",
   "metadata": {},
   "outputs": [
    {
     "data": {
      "text/plain": [
       "array([0, 0, 0, ..., 0, 0, 0])"
      ]
     },
     "execution_count": 5,
     "metadata": {},
     "output_type": "execute_result"
    }
   ],
   "source": [
    "labels"
   ]
  },
  {
   "cell_type": "code",
   "execution_count": 7,
   "id": "8be77843",
   "metadata": {},
   "outputs": [
    {
     "data": {
      "text/plain": [
       "(8528,)"
      ]
     },
     "execution_count": 7,
     "metadata": {},
     "output_type": "execute_result"
    }
   ],
   "source": [
    "labels.shape"
   ]
  },
  {
   "cell_type": "code",
   "execution_count": 9,
   "id": "48af05d8",
   "metadata": {},
   "outputs": [
    {
     "data": {
      "text/plain": [
       "Counter({0: 5076, 1: 758, 2: 2415, 3: 279})"
      ]
     },
     "execution_count": 9,
     "metadata": {},
     "output_type": "execute_result"
    }
   ],
   "source": [
    "Counter(labels)"
   ]
  },
  {
   "cell_type": "code",
   "execution_count": null,
   "id": "816f6977",
   "metadata": {},
   "outputs": [],
   "source": []
  }
 ],
 "metadata": {
  "kernelspec": {
   "display_name": "Python 3",
   "language": "python",
   "name": "python3"
  },
  "language_info": {
   "codemirror_mode": {
    "name": "ipython",
    "version": 3
   },
   "file_extension": ".py",
   "mimetype": "text/x-python",
   "name": "python",
   "nbconvert_exporter": "python",
   "pygments_lexer": "ipython3",
   "version": "3.8.8"
  }
 },
 "nbformat": 4,
 "nbformat_minor": 5
}
